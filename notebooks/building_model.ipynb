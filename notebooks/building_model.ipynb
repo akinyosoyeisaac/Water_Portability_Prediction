{
 "cells": [
  {
   "cell_type": "code",
   "execution_count": 2,
   "metadata": {},
   "outputs": [],
   "source": [
    "import pandas as pd\n",
    "import numpy as np\n",
    "from sklearn.model_selection import StratifiedShuffleSplit\n",
    "from sklearn.ensemble import RandomForestClassifier\n",
    "from sklearn.tree import ExtraTreeClassifier\n",
    "from sklearn.ensemble import BaggingClassifier\n",
    "from sklearn.ensemble import StackingClassifier\n",
    "from xgboost import XGBClassifier\n",
    "from lightgbm import LGBMClassifier\n",
    "from sklearn.metrics import classification_report, ConfusionMatrixDisplay, RocCurveDisplay, roc_curve\n",
    "from sklearn.impute import SimpleImputer\n",
    "from sklearn.pipeline import make_pipeline\n",
    "from sklearn.preprocessing import StandardScaler\n",
    "from imblearn.over_sampling import SMOTE\n",
    "import matplotlib.pyplot as plt\n",
    "import yaml\n",
    "import pickle as pk\n",
    "import json\n",
    "\n",
    "%matplotlib inline"
   ]
  },
  {
   "cell_type": "code",
   "execution_count": 3,
   "metadata": {},
   "outputs": [
    {
     "name": "stdout",
     "output_type": "stream",
     "text": [
      "C:\\Users\\USER\\Desktop\\python codes\\group 2 paper review\\Water_Portability_Prediction\n"
     ]
    }
   ],
   "source": [
    "%cd C:\\Users\\USER\\Desktop\\python codes\\group 2 paper review\\Water_Portability_Prediction"
   ]
  },
  {
   "cell_type": "code",
   "execution_count": 4,
   "metadata": {},
   "outputs": [],
   "source": [
    "df = pd.read_csv(r\"data\\raw\\water_potability.csv\")"
   ]
  },
  {
   "cell_type": "code",
   "execution_count": 5,
   "metadata": {},
   "outputs": [
    {
     "data": {
      "text/plain": [
       "Index(['ph', 'Hardness', 'Solids', 'Chloramines', 'Sulfate', 'Conductivity',\n",
       "       'Organic_carbon', 'Trihalomethanes', 'Turbidity', 'Potability'],\n",
       "      dtype='object')"
      ]
     },
     "execution_count": 5,
     "metadata": {},
     "output_type": "execute_result"
    }
   ],
   "source": [
    "df.columns"
   ]
  },
  {
   "cell_type": "code",
   "execution_count": 6,
   "metadata": {},
   "outputs": [],
   "source": [
    "ph_mean = df[df['Potability'] == 0]['ph'].mean(skipna=True)\n",
    "df.loc[(df['Potability'] == 0) & (df['ph'].isna()), 'ph'] = ph_mean\n",
    "\n",
    "ph_mean_1 = df[df['Potability'] == 1]['ph'].mean(skipna=True)\n",
    "df.loc[(df['Potability'] == 1) & (df['ph'].isna()), 'ph'] = ph_mean_1\n",
    "\n",
    "sulf_mean = df[df['Potability'] == 0]['Sulfate'].mean(skipna=True)\n",
    "df.loc[(df['Potability'] == 0) & (df['Sulfate'].isna()), 'Sulfate'] = sulf_mean\n",
    "\n",
    "sulf_mean_1 = df[df['Potability'] == 1]['Sulfate'].mean(skipna=True)\n",
    "df.loc[(df['Potability'] == 1) & (df['Sulfate'].isna()), 'Sulfate'] = sulf_mean_1\n",
    "\n",
    "traih_mean = df[df['Potability'] == 0]['Trihalomethanes'].mean(skipna=True)\n",
    "df.loc[(df['Potability'] == 0) & (df['Trihalomethanes'].isna()), 'Trihalomethanes'] = traih_mean\n",
    "\n",
    "trah_mean_1 = df[df['Potability'] == 1]['Trihalomethanes'].mean(skipna=True)\n",
    "df.loc[(df['Potability'] == 1) & (df['Trihalomethanes'].isna()), 'Trihalomethanes'] = trah_mean_1"
   ]
  },
  {
   "cell_type": "code",
   "execution_count": 7,
   "metadata": {},
   "outputs": [],
   "source": [
    "X = df.drop(columns=\"Potability\")\n",
    "y = df[\"Potability\"]"
   ]
  },
  {
   "cell_type": "code",
   "execution_count": 8,
   "metadata": {},
   "outputs": [],
   "source": [
    "sss = StratifiedShuffleSplit(n_splits=10, test_size=0.2, random_state=10)\n",
    "\n",
    "for train_index, test_index in sss.split(X, y):\n",
    "    X_train, X_test = X.iloc[train_index], X.iloc[test_index]\n",
    "    y_train, y_test = y[train_index], y[test_index]"
   ]
  },
  {
   "cell_type": "code",
   "execution_count": 9,
   "metadata": {},
   "outputs": [],
   "source": [
    "test = X_test"
   ]
  },
  {
   "cell_type": "code",
   "execution_count": 10,
   "metadata": {},
   "outputs": [
    {
     "ename": "NameError",
     "evalue": "name 'config' is not defined",
     "output_type": "error",
     "traceback": [
      "\u001b[1;31m---------------------------------------------------------------------------\u001b[0m",
      "\u001b[1;31mNameError\u001b[0m                                 Traceback (most recent call last)",
      "Input \u001b[1;32mIn [10]\u001b[0m, in \u001b[0;36m<cell line: 1>\u001b[1;34m()\u001b[0m\n\u001b[1;32m----> 1\u001b[0m test\u001b[38;5;241m.\u001b[39mto_csv(\u001b[43mconfig\u001b[49m[\u001b[38;5;124m\"\u001b[39m\u001b[38;5;124mpaths\u001b[39m\u001b[38;5;124m\"\u001b[39m][\u001b[38;5;124m\"\u001b[39m\u001b[38;5;124mtest_data\u001b[39m\u001b[38;5;124m\"\u001b[39m], index\u001b[38;5;241m=\u001b[39m\u001b[38;5;28;01mFalse\u001b[39;00m)\n",
      "\u001b[1;31mNameError\u001b[0m: name 'config' is not defined"
     ]
    }
   ],
   "source": [
    "test.to_csv(config[\"paths\"][\"test_data\"], index=False)"
   ]
  },
  {
   "cell_type": "code",
   "execution_count": 11,
   "metadata": {},
   "outputs": [
    {
     "name": "stdout",
     "output_type": "stream",
     "text": [
      "(2620,)\n",
      "(656,)\n"
     ]
    }
   ],
   "source": [
    "print(y_train.shape)\n",
    "print(y_test.shape)"
   ]
  },
  {
   "cell_type": "code",
   "execution_count": 12,
   "metadata": {},
   "outputs": [
    {
     "data": {
      "text/plain": [
       "0    0.609924\n",
       "1    0.390076\n",
       "Name: Potability, dtype: float64"
      ]
     },
     "execution_count": 12,
     "metadata": {},
     "output_type": "execute_result"
    }
   ],
   "source": [
    "y_train.value_counts(normalize=True)"
   ]
  },
  {
   "cell_type": "code",
   "execution_count": 13,
   "metadata": {},
   "outputs": [],
   "source": [
    "# standard scaling\n",
    "scaler = StandardScaler()"
   ]
  },
  {
   "cell_type": "code",
   "execution_count": 14,
   "metadata": {},
   "outputs": [],
   "source": [
    "# Imputer\n",
    "imputer = SimpleImputer(strategy=\"median\")"
   ]
  },
  {
   "cell_type": "code",
   "execution_count": 15,
   "metadata": {},
   "outputs": [],
   "source": [
    "# random forest model\n",
    "model_rf = RandomForestClassifier(random_state=234)"
   ]
  },
  {
   "cell_type": "code",
   "execution_count": 16,
   "metadata": {},
   "outputs": [],
   "source": [
    "# xgboost model\n",
    "model_xgb = XGBClassifier(random_state=234)"
   ]
  },
  {
   "cell_type": "code",
   "execution_count": 17,
   "metadata": {},
   "outputs": [],
   "source": [
    "# lightgbm model\n",
    "model_lgbm = LGBMClassifier(random_state=234)"
   ]
  },
  {
   "cell_type": "code",
   "execution_count": 18,
   "metadata": {},
   "outputs": [],
   "source": [
    "# Extra tree\n",
    "model_extra_tree = ExtraTreeClassifier(random_state=234)\n",
    "clf = BaggingClassifier(model_extra_tree, random_state=234)"
   ]
  },
  {
   "cell_type": "code",
   "execution_count": 19,
   "metadata": {},
   "outputs": [],
   "source": [
    "# random forest pipeline\n",
    "pipe_rf = make_pipeline(imputer, scaler, model_rf)"
   ]
  },
  {
   "cell_type": "code",
   "execution_count": 20,
   "metadata": {},
   "outputs": [
    {
     "data": {
      "text/plain": [
       "Pipeline(steps=[('simpleimputer', SimpleImputer(strategy='median')),\n",
       "                ('standardscaler', StandardScaler()),\n",
       "                ('randomforestclassifier',\n",
       "                 RandomForestClassifier(random_state=234))])"
      ]
     },
     "execution_count": 20,
     "metadata": {},
     "output_type": "execute_result"
    }
   ],
   "source": [
    "pipe_rf.fit(X_train, y_train)"
   ]
  },
  {
   "cell_type": "code",
   "execution_count": 21,
   "metadata": {},
   "outputs": [
    {
     "name": "stdout",
     "output_type": "stream",
     "text": [
      "              precision    recall  f1-score   support\n",
      "\n",
      "           0       0.82      0.90      0.86       400\n",
      "           1       0.81      0.69      0.75       256\n",
      "\n",
      "    accuracy                           0.82       656\n",
      "   macro avg       0.81      0.79      0.80       656\n",
      "weighted avg       0.81      0.82      0.81       656\n",
      "\n"
     ]
    }
   ],
   "source": [
    "metrics = classification_report(y_test, pipe_rf.predict(X_test))\n",
    "print(metrics)"
   ]
  },
  {
   "cell_type": "code",
   "execution_count": 26,
   "metadata": {},
   "outputs": [
    {
     "data": {
      "text/plain": [
       "'              precision    recall  f1-score   support\\n\\n           0       0.82      0.90      0.86       400\\n           1       0.81      0.69      0.75       256\\n\\n    accuracy                           0.82       656\\n   macro avg       0.81      0.79      0.80       656\\nweighted avg       0.81      0.82      0.81       656\\n'"
      ]
     },
     "execution_count": 26,
     "metadata": {},
     "output_type": "execute_result"
    }
   ],
   "source": [
    "metrics"
   ]
  },
  {
   "cell_type": "code",
   "execution_count": 23,
   "metadata": {},
   "outputs": [
    {
     "ename": "NameError",
     "evalue": "name 'config' is not defined",
     "output_type": "error",
     "traceback": [
      "\u001b[1;31m---------------------------------------------------------------------------\u001b[0m",
      "\u001b[1;31mNameError\u001b[0m                                 Traceback (most recent call last)",
      "Input \u001b[1;32mIn [23]\u001b[0m, in \u001b[0;36m<cell line: 1>\u001b[1;34m()\u001b[0m\n\u001b[1;32m----> 1\u001b[0m \u001b[38;5;28;01mwith\u001b[39;00m \u001b[38;5;28mopen\u001b[39m(\u001b[43mconfig\u001b[49m[\u001b[38;5;124m\"\u001b[39m\u001b[38;5;124mpaths\u001b[39m\u001b[38;5;124m\"\u001b[39m][\u001b[38;5;124m\"\u001b[39m\u001b[38;5;124mmetrics\u001b[39m\u001b[38;5;124m\"\u001b[39m], \u001b[38;5;124m\"\u001b[39m\u001b[38;5;124mw\u001b[39m\u001b[38;5;124m\"\u001b[39m) \u001b[38;5;28;01mas\u001b[39;00m file:\n\u001b[0;32m      2\u001b[0m     json\u001b[38;5;241m.\u001b[39mdump({\u001b[38;5;124m\"\u001b[39m\u001b[38;5;124mmetrics\u001b[39m\u001b[38;5;124m\"\u001b[39m: metrics}, file)\n",
      "\u001b[1;31mNameError\u001b[0m: name 'config' is not defined"
     ]
    }
   ],
   "source": [
    "with open(config[\"paths\"][\"metrics\"], \"w\") as file:\n",
    "    json.dump({\"metrics\": metrics}, file)"
   ]
  },
  {
   "cell_type": "code",
   "execution_count": 24,
   "metadata": {},
   "outputs": [],
   "source": [
    "with open(\"params.yaml\") as file:\n",
    "    config = yaml.safe_load(file)"
   ]
  },
  {
   "cell_type": "code",
   "execution_count": 25,
   "metadata": {},
   "outputs": [
    {
     "data": {
      "text/plain": [
       "{'paths': {'data': 'data/raw/water_potability.csv',\n",
       "  'model': 'models/model.pk',\n",
       "  'test_data': 'data/test/test_data.csv',\n",
       "  'train_data': 'data/train/test_data.csv',\n",
       "  'confusion_matrix': 'report/visual/confusion_matrix.jpg',\n",
       "  'roc_curve': 'report/visual/rocauc_curve.jpg',\n",
       "  'metrics': 'report/metrics/metrics.json'},\n",
       " 'loglevel': 'INFO',\n",
       " 'train': {'seeds': 234, 'test_size': 0.2, 'imputer': 'median', 'n_split': 10}}"
      ]
     },
     "execution_count": 25,
     "metadata": {},
     "output_type": "execute_result"
    }
   ],
   "source": [
    "config"
   ]
  },
  {
   "cell_type": "code",
   "execution_count": 15,
   "metadata": {},
   "outputs": [],
   "source": [
    "with open(config[\"paths\"][\"model\"], \"wb\") as file:\n",
    "    pk.dump(pipe_rf, file)"
   ]
  },
  {
   "cell_type": "code",
   "execution_count": 21,
   "metadata": {},
   "outputs": [
    {
     "name": "stdout",
     "output_type": "stream",
     "text": [
      "saving the model to model/model.pk...\n"
     ]
    }
   ],
   "source": [
    "print('saving the model to ' + config[\"paths\"][\"model\"] + \"...\")"
   ]
  },
  {
   "cell_type": "code",
   "execution_count": 53,
   "metadata": {},
   "outputs": [
    {
     "data": {
      "image/png": "[encoded data removed]",
      "text/plain": [
       "<Figure size 504x504 with 2 Axes>"
      ]
     },
     "metadata": {
      "needs_background": "light"
     },
     "output_type": "display_data"
    }
   ],
   "source": [
    "fig, ax = plt.subplots(figsize=(7,7))\n",
    "ConfusionMatrixDisplay.from_estimator(pipe_rf, X_test, y_test, normalize='all', labels=[0, 1], display_labels=[\"Not Potable\", \"Potable\"], ax=ax)\n",
    "plt.title(\"Confusion Matrics\".upper(), size=20, weight=\"bold\")\n",
    "plt.savefig(config[\"paths\"][\"confusion_matrix\"])"
   ]
  },
  {
   "cell_type": "code",
   "execution_count": 45,
   "metadata": {},
   "outputs": [
    {
     "data": {
      "text/plain": [
       "array([0.72, 0.39, 0.69, 0.5 , 0.34, 0.35, 0.21, 0.56, 0.65, 0.68, 0.64,\n",
       "       0.67, 0.87, 0.51, 0.65, 0.52, 0.57, 0.66, 0.74, 0.51, 0.37, 0.47,\n",
       "       0.61, 0.43, 0.37, 0.61, 0.49, 0.43, 0.64, 0.53, 0.48, 0.65, 0.5 ,\n",
       "       0.65, 0.4 , 0.54, 0.56, 0.63, 0.43, 0.34, 0.67, 0.78, 0.52, 0.53,\n",
       "       0.77, 0.52, 0.42, 0.67, 0.87, 0.59, 0.26, 0.57, 0.64, 0.28, 0.44,\n",
       "       0.59, 0.61, 0.76, 0.55, 0.55, 0.5 , 0.59, 0.58, 0.46, 0.29, 0.4 ,\n",
       "       0.6 , 0.71, 0.67, 0.72, 0.26, 0.51, 0.77, 0.35, 0.6 , 0.6 , 0.65,\n",
       "       0.66, 0.62, 0.83, 0.46, 0.57, 0.73, 0.54, 0.64, 0.4 , 0.75, 0.41,\n",
       "       0.51, 0.59, 0.71, 0.56, 0.69, 0.49, 0.85, 0.52, 0.58, 0.51, 0.69,\n",
       "       0.67, 0.62, 0.35, 0.35, 0.3 , 0.53, 0.74, 0.59, 0.54, 0.52, 0.75,\n",
       "       0.7 , 0.69, 0.56, 0.61, 0.62, 0.37, 0.61, 0.46, 0.66, 0.27, 0.61,\n",
       "       0.45, 0.74, 0.6 , 0.69, 0.32, 0.77, 0.62, 0.66, 0.44, 0.62, 0.63,\n",
       "       0.29, 0.6 , 0.42, 0.59, 0.32, 0.59, 0.63, 0.47, 0.47, 0.42, 0.38,\n",
       "       0.36, 0.78, 0.44, 0.71, 0.59, 0.66, 0.63, 0.73, 0.42, 0.48, 0.32,\n",
       "       0.51, 0.57, 0.93, 0.56, 0.58, 0.59, 0.92, 0.5 , 0.56, 0.51, 0.55,\n",
       "       0.38, 0.39, 0.46, 0.17, 0.56, 0.69, 0.53, 0.59, 0.6 , 0.21, 0.49,\n",
       "       0.29, 0.51, 0.32, 0.52, 0.35, 0.68, 0.58, 0.63, 0.57, 0.42, 0.45,\n",
       "       0.68, 0.52, 0.51, 0.55, 0.29, 0.89, 0.61, 0.47, 0.52, 0.63, 0.15,\n",
       "       0.65, 0.39, 0.29, 0.58, 0.54, 0.49, 0.56, 0.63, 0.67, 0.55, 0.37,\n",
       "       0.75, 0.58, 0.55, 0.45, 0.55, 0.33, 0.5 , 0.5 , 0.51, 0.54, 0.55,\n",
       "       0.29, 0.91, 0.64, 0.42, 0.58, 0.47, 0.58, 0.53, 0.44, 0.65, 0.82,\n",
       "       0.89, 0.73, 0.64, 0.46, 0.68, 0.44, 0.52, 0.75, 0.34, 0.39, 0.68,\n",
       "       0.53, 0.43, 0.64, 0.58, 0.64, 0.17, 0.51, 0.53, 0.4 , 0.57, 0.69,\n",
       "       0.65, 0.53, 0.56, 0.41, 0.53, 0.38, 0.71, 0.48, 0.73, 0.38, 0.75,\n",
       "       0.62, 0.7 , 0.44, 0.61, 0.59, 0.54, 0.43, 0.68, 0.65, 0.87, 0.65,\n",
       "       0.56, 0.58, 0.49, 0.66, 0.52, 0.8 , 0.57, 0.6 , 0.65, 0.64, 0.33,\n",
       "       0.89, 0.69, 0.2 , 0.43, 0.5 , 0.53, 0.57, 0.34, 0.39, 0.56, 0.39,\n",
       "       0.9 , 0.4 , 0.74, 0.32, 0.41, 0.68, 0.78, 0.4 , 0.38, 0.58, 0.54,\n",
       "       0.57, 0.38, 0.45, 0.51, 0.43, 0.57, 0.44, 0.68, 0.56, 0.42, 0.54,\n",
       "       0.69, 0.38, 0.69, 0.68, 0.62, 0.31, 0.75, 0.6 , 0.36, 0.69, 0.59,\n",
       "       0.53, 0.54, 0.66, 0.18, 0.53, 0.45, 0.74, 0.36, 0.72, 0.61, 0.54,\n",
       "       0.6 , 0.33, 0.46, 0.43, 0.47, 0.59, 0.79, 0.36, 0.61, 0.62, 0.35,\n",
       "       0.63, 0.64, 0.54, 0.45, 0.84, 0.5 , 0.59, 0.35, 0.5 , 0.57, 0.61,\n",
       "       0.37, 0.57, 0.51, 0.49, 0.63, 0.23, 0.62, 0.77, 0.38, 0.51, 0.58,\n",
       "       0.4 , 0.43, 0.6 , 0.67, 0.66, 0.53, 0.61, 0.43, 0.57, 0.52, 0.36,\n",
       "       0.61, 0.69, 0.55, 0.49, 0.63, 0.53, 0.43, 0.77, 0.66, 0.75, 0.75,\n",
       "       0.62, 0.31, 0.44, 0.26, 0.8 , 0.34, 0.39, 0.54, 0.58, 0.84, 0.42,\n",
       "       0.42, 0.56, 0.54, 0.47, 0.88, 0.41, 0.36, 0.86, 0.57, 0.6 , 0.51,\n",
       "       0.61, 0.79, 0.3 , 0.44, 0.56, 0.49, 0.62, 0.57, 0.55, 0.38, 0.74,\n",
       "       0.53, 0.44, 0.55, 0.38, 0.54, 0.62, 0.47, 0.21, 0.74, 0.47, 0.56,\n",
       "       0.59, 0.62, 0.26, 0.58, 0.36, 0.22, 0.53, 0.44, 0.73, 0.48, 0.63,\n",
       "       0.78, 0.51, 0.45, 0.4 , 0.74, 0.17, 0.42, 0.53, 0.58, 0.24, 0.58,\n",
       "       0.72, 0.42, 0.55, 0.68, 0.51, 0.89, 0.55, 0.67, 0.55, 0.39, 0.49,\n",
       "       0.69, 0.35, 0.67, 0.88, 0.4 , 0.27, 0.57, 0.63, 0.52, 0.54, 0.59,\n",
       "       0.6 , 0.42, 0.69, 0.36, 0.33, 0.55, 0.52, 0.41, 0.31, 0.59, 0.43,\n",
       "       0.61, 0.53, 0.69, 0.63, 0.52, 0.47, 0.58, 0.92, 0.43, 0.61, 0.74,\n",
       "       0.54, 0.76, 0.38, 0.56, 0.48, 0.41, 0.76, 0.48, 0.53, 0.58, 0.57,\n",
       "       0.56, 0.47, 0.2 , 0.44, 0.79, 0.58, 0.59, 0.58, 0.36, 0.51, 0.59,\n",
       "       0.37, 0.58, 0.45, 0.45, 0.82, 0.68, 0.76, 0.64, 0.59, 0.46, 0.53,\n",
       "       0.57, 0.55, 0.79, 0.69, 0.78, 0.6 , 0.32, 0.49, 0.46, 0.53, 0.51,\n",
       "       0.48, 0.5 , 0.49, 0.67, 0.44, 0.17, 0.34, 0.79, 0.3 , 0.32, 0.51,\n",
       "       0.9 , 0.75, 0.47, 0.37, 0.35, 0.31, 0.65, 0.84, 0.85, 0.7 , 0.47,\n",
       "       0.69, 0.74, 0.35, 0.59, 0.56, 0.5 , 0.17, 0.76, 0.59, 0.56, 0.43,\n",
       "       0.71, 0.46, 0.12, 0.47, 0.65, 0.71, 0.53, 0.66, 0.56, 0.38, 0.68,\n",
       "       0.38, 0.34, 0.58, 0.36, 0.63, 0.71, 0.72, 0.8 , 0.38, 0.73, 0.39,\n",
       "       0.51, 0.63, 0.49, 0.31, 0.58, 0.44, 0.4 , 0.93, 0.44, 0.58, 0.58,\n",
       "       0.61, 0.4 , 0.72, 0.61, 0.51, 0.57, 0.67, 0.55, 0.47, 0.35, 0.51,\n",
       "       0.98, 0.46, 0.81, 0.67, 0.48, 0.62, 0.81, 0.53, 0.56, 0.71, 0.51,\n",
       "       0.17, 0.37, 0.43, 0.6 , 0.61, 0.46, 0.52, 0.37, 0.49, 0.61, 0.57,\n",
       "       0.67, 0.5 , 0.3 , 0.71, 0.63, 0.75, 0.75])"
      ]
     },
     "execution_count": 45,
     "metadata": {},
     "output_type": "execute_result"
    }
   ],
   "source": [
    "pipe_rf.predict_proba(X_test)[:, 0]"
   ]
  },
  {
   "cell_type": "code",
   "execution_count": 42,
   "metadata": {},
   "outputs": [
    {
     "data": {
      "text/plain": [
       "(656,)"
      ]
     },
     "execution_count": 42,
     "metadata": {},
     "output_type": "execute_result"
    }
   ],
   "source": [
    "y_test.values.shape"
   ]
  },
  {
   "cell_type": "code",
   "execution_count": 46,
   "metadata": {},
   "outputs": [],
   "source": [
    "fpr, tpr, thresholds = roc_curve(y_test.values, pipe_rf.predict_proba(X_test)[:,0])"
   ]
  },
  {
   "cell_type": "code",
   "execution_count": 54,
   "metadata": {},
   "outputs": [
    {
     "data": {
      "image/png": "[encoded data removed]",
      "text/plain": [
       "<Figure size 504x504 with 1 Axes>"
      ]
     },
     "metadata": {
      "needs_background": "light"
     },
     "output_type": "display_data"
    }
   ],
   "source": [
    "fig, ax = plt.subplots(figsize=(7,7))\n",
    "RocCurveDisplay.from_estimator(estimator=pipe_rf, X=X_test, y=y_test, pos_label=1, name=\"RF\", ax=ax)\n",
    "plt.title(\"ROC using Random Forest\".upper(), size=20, weight=\"bold\")\n",
    "plt.savefig(config[\"paths\"][\"roc_curve\"]);"
   ]
  },
  {
   "cell_type": "code",
   "execution_count": 27,
   "metadata": {},
   "outputs": [],
   "source": [
    "# random forest pipeline\n",
    "pipe_xgb = make_pipeline(imputer, scaler, model_xgb)"
   ]
  },
  {
   "cell_type": "code",
   "execution_count": 28,
   "metadata": {},
   "outputs": [
    {
     "data": {
      "text/plain": [
       "Pipeline(steps=[('simpleimputer', SimpleImputer(strategy='median')),\n",
       "                ('standardscaler', StandardScaler()),\n",
       "                ('xgbclassifier',\n",
       "                 XGBClassifier(base_score=0.5, booster='gbtree', callbacks=None,\n",
       "                               colsample_bylevel=1, colsample_bynode=1,\n",
       "                               colsample_bytree=1, early_stopping_rounds=None,\n",
       "                               enable_categorical=False, eval_metric=None,\n",
       "                               gamma=0, gpu_id=-1, grow_policy='depthwise',\n",
       "                               importance_type=None, interaction_constraints='',\n",
       "                               learning_rate=0.300000012, max_bin=256,\n",
       "                               max_cat_to_onehot=4, max_delta_step=0,\n",
       "                               max_depth=6, max_leaves=0, min_child_weight=1,\n",
       "                               missing=nan, monotone_constraints='()',\n",
       "                               n_estimators=100, n_jobs=0, num_parallel_tree=1,\n",
       "                               predictor='auto', random_state=234, reg_alpha=0,\n",
       "                               reg_lambda=1, ...))])"
      ]
     },
     "execution_count": 28,
     "metadata": {},
     "output_type": "execute_result"
    }
   ],
   "source": [
    "pipe_xgb.fit(X_train, y_train)"
   ]
  },
  {
   "cell_type": "code",
   "execution_count": 29,
   "metadata": {},
   "outputs": [
    {
     "name": "stdout",
     "output_type": "stream",
     "text": [
      "              precision    recall  f1-score   support\n",
      "\n",
      "           0       0.83      0.87      0.85       400\n",
      "           1       0.78      0.72      0.75       256\n",
      "\n",
      "    accuracy                           0.81       656\n",
      "   macro avg       0.81      0.80      0.80       656\n",
      "weighted avg       0.81      0.81      0.81       656\n",
      "\n"
     ]
    }
   ],
   "source": [
    "print(classification_report(y_test, pipe_xgb.predict(X_test)))"
   ]
  },
  {
   "cell_type": "code",
   "execution_count": 30,
   "metadata": {},
   "outputs": [
    {
     "data": {
      "text/plain": [
       "<sklearn.metrics._plot.confusion_matrix.ConfusionMatrixDisplay at 0x1d4de229bb0>"
      ]
     },
     "execution_count": 30,
     "metadata": {},
     "output_type": "execute_result"
    },
    {
     "data": {
      "image/png": "[encoded data removed]",
      "text/plain": [
       "<Figure size 432x288 with 2 Axes>"
      ]
     },
     "metadata": {
      "needs_background": "light"
     },
     "output_type": "display_data"
    }
   ],
   "source": [
    "ConfusionMatrixDisplay.from_estimator(pipe_xgb, X_test, y_test, normalize='all')"
   ]
  },
  {
   "cell_type": "code",
   "execution_count": 32,
   "metadata": {},
   "outputs": [],
   "source": [
    "# random forest pipeline\n",
    "pipe_lgbm = make_pipeline(imputer, scaler, model_lgbm)"
   ]
  },
  {
   "cell_type": "code",
   "execution_count": 33,
   "metadata": {},
   "outputs": [
    {
     "data": {
      "text/plain": [
       "Pipeline(steps=[('simpleimputer', SimpleImputer(strategy='median')),\n",
       "                ('standardscaler', StandardScaler()),\n",
       "                ('lgbmclassifier', LGBMClassifier(random_state=234))])"
      ]
     },
     "execution_count": 33,
     "metadata": {},
     "output_type": "execute_result"
    }
   ],
   "source": [
    "pipe_lgbm.fit(X_train, y_train)"
   ]
  },
  {
   "cell_type": "code",
   "execution_count": 34,
   "metadata": {},
   "outputs": [
    {
     "name": "stdout",
     "output_type": "stream",
     "text": [
      "              precision    recall  f1-score   support\n",
      "\n",
      "           0       0.81      0.88      0.84       400\n",
      "           1       0.78      0.68      0.73       256\n",
      "\n",
      "    accuracy                           0.80       656\n",
      "   macro avg       0.80      0.78      0.79       656\n",
      "weighted avg       0.80      0.80      0.80       656\n",
      "\n"
     ]
    }
   ],
   "source": [
    "print(classification_report(y_test, pipe_lgbm.predict(X_test)))"
   ]
  },
  {
   "cell_type": "code",
   "execution_count": 35,
   "metadata": {},
   "outputs": [
    {
     "data": {
      "text/plain": [
       "<sklearn.metrics._plot.confusion_matrix.ConfusionMatrixDisplay at 0x1d4dc5d82e0>"
      ]
     },
     "execution_count": 35,
     "metadata": {},
     "output_type": "execute_result"
    },
    {
     "data": {
      "image/png": "[encoded data removed]",
      "text/plain": [
       "<Figure size 432x288 with 2 Axes>"
      ]
     },
     "metadata": {
      "needs_background": "light"
     },
     "output_type": "display_data"
    }
   ],
   "source": [
    "ConfusionMatrixDisplay.from_estimator(pipe_lgbm, X_test, y_test, normalize='all')"
   ]
  },
  {
   "cell_type": "code",
   "execution_count": 30,
   "metadata": {},
   "outputs": [],
   "source": [
    "# random forest pipeline\n",
    "pipe_extra_tree = make_pipeline(imputer, scaler, clf)"
   ]
  },
  {
   "cell_type": "code",
   "execution_count": 33,
   "metadata": {},
   "outputs": [
    {
     "data": {
      "text/plain": [
       "Pipeline(steps=[('simpleimputer', SimpleImputer(strategy='median')),\n",
       "                ('standardscaler', StandardScaler()),\n",
       "                ('baggingclassifier',\n",
       "                 BaggingClassifier(base_estimator=ExtraTreeClassifier(random_state=234),\n",
       "                                   random_state=234))])"
      ]
     },
     "execution_count": 33,
     "metadata": {},
     "output_type": "execute_result"
    }
   ],
   "source": [
    "pipe_extra_tree.fit(X_train, y_train)"
   ]
  },
  {
   "cell_type": "code",
   "execution_count": 34,
   "metadata": {},
   "outputs": [
    {
     "name": "stdout",
     "output_type": "stream",
     "text": [
      "              precision    recall  f1-score   support\n",
      "\n",
      "           0       0.70      0.78      0.73       400\n",
      "           1       0.58      0.48      0.52       256\n",
      "\n",
      "    accuracy                           0.66       656\n",
      "   macro avg       0.64      0.63      0.63       656\n",
      "weighted avg       0.65      0.66      0.65       656\n",
      "\n"
     ]
    }
   ],
   "source": [
    "print(classification_report(y_test, pipe_extra_tree.predict(X_test)))"
   ]
  },
  {
   "cell_type": "code",
   "execution_count": 44,
   "metadata": {},
   "outputs": [
    {
     "data": {
      "text/plain": [
       "<sklearn.metrics._plot.confusion_matrix.ConfusionMatrixDisplay at 0x2a5ddf86cd0>"
      ]
     },
     "execution_count": 44,
     "metadata": {},
     "output_type": "execute_result"
    },
    {
     "data": {
      "image/png": "[encoded data removed]",
      "text/plain": [
       "<Figure size 432x288 with 2 Axes>"
      ]
     },
     "metadata": {
      "needs_background": "light"
     },
     "output_type": "display_data"
    }
   ],
   "source": [
    "ConfusionMatrixDisplay.from_estimator(pipe_extra_tree, X_test, y_test, normalize='all')"
   ]
  },
  {
   "cell_type": "code",
   "execution_count": 46,
   "metadata": {},
   "outputs": [
    {
     "data": {
      "text/html": [
       "<style>#sk-container-id-5 {color: black;background-color: white;}#sk-container-id-5 pre{padding: 0;}#sk-container-id-5 div.sk-toggleable {background-color: white;}#sk-container-id-5 label.sk-toggleable__label {cursor: pointer;display: block;width: 100%;margin-bottom: 0;padding: 0.3em;box-sizing: border-box;text-align: center;}#sk-container-id-5 label.sk-toggleable__label-arrow:before {content: \"▸\";float: left;margin-right: 0.25em;color: #696969;}#sk-container-id-5 label.sk-toggleable__label-arrow:hover:before {color: black;}#sk-container-id-5 div.sk-estimator:hover label.sk-toggleable__label-arrow:before {color: black;}#sk-container-id-5 div.sk-toggleable__content {max-height: 0;max-width: 0;overflow: hidden;text-align: left;background-color: #f0f8ff;}#sk-container-id-5 div.sk-toggleable__content pre {margin: 0.2em;color: black;border-radius: 0.25em;background-color: #f0f8ff;}#sk-container-id-5 input.sk-toggleable__control:checked~div.sk-toggleable__content {max-height: 200px;max-width: 100%;overflow: auto;}#sk-container-id-5 input.sk-toggleable__control:checked~label.sk-toggleable__label-arrow:before {content: \"▾\";}#sk-container-id-5 div.sk-estimator input.sk-toggleable__control:checked~label.sk-toggleable__label {background-color: #d4ebff;}#sk-container-id-5 div.sk-label input.sk-toggleable__control:checked~label.sk-toggleable__label {background-color: #d4ebff;}#sk-container-id-5 input.sk-hidden--visually {border: 0;clip: rect(1px 1px 1px 1px);clip: rect(1px, 1px, 1px, 1px);height: 1px;margin: -1px;overflow: hidden;padding: 0;position: absolute;width: 1px;}#sk-container-id-5 div.sk-estimator {font-family: monospace;background-color: #f0f8ff;border: 1px dotted black;border-radius: 0.25em;box-sizing: border-box;margin-bottom: 0.5em;}#sk-container-id-5 div.sk-estimator:hover {background-color: #d4ebff;}#sk-container-id-5 div.sk-parallel-item::after {content: \"\";width: 100%;border-bottom: 1px solid gray;flex-grow: 1;}#sk-container-id-5 div.sk-label:hover label.sk-toggleable__label {background-color: #d4ebff;}#sk-container-id-5 div.sk-serial::before {content: \"\";position: absolute;border-left: 1px solid gray;box-sizing: border-box;top: 0;bottom: 0;left: 50%;z-index: 0;}#sk-container-id-5 div.sk-serial {display: flex;flex-direction: column;align-items: center;background-color: white;padding-right: 0.2em;padding-left: 0.2em;position: relative;}#sk-container-id-5 div.sk-item {position: relative;z-index: 1;}#sk-container-id-5 div.sk-parallel {display: flex;align-items: stretch;justify-content: center;background-color: white;position: relative;}#sk-container-id-5 div.sk-item::before, #sk-container-id-5 div.sk-parallel-item::before {content: \"\";position: absolute;border-left: 1px solid gray;box-sizing: border-box;top: 0;bottom: 0;left: 50%;z-index: -1;}#sk-container-id-5 div.sk-parallel-item {display: flex;flex-direction: column;z-index: 1;position: relative;background-color: white;}#sk-container-id-5 div.sk-parallel-item:first-child::after {align-self: flex-end;width: 50%;}#sk-container-id-5 div.sk-parallel-item:last-child::after {align-self: flex-start;width: 50%;}#sk-container-id-5 div.sk-parallel-item:only-child::after {width: 0;}#sk-container-id-5 div.sk-dashed-wrapped {border: 1px dashed gray;margin: 0 0.4em 0.5em 0.4em;box-sizing: border-box;padding-bottom: 0.4em;background-color: white;}#sk-container-id-5 div.sk-label label {font-family: monospace;font-weight: bold;display: inline-block;line-height: 1.2em;}#sk-container-id-5 div.sk-label-container {text-align: center;}#sk-container-id-5 div.sk-container {/* jupyter's `normalize.less` sets `[hidden] { display: none; }` but bootstrap.min.css set `[hidden] { display: none !important; }` so we also need the `!important` here to be able to override the default hidden behavior on the sphinx rendered scikit-learn.org. See: https://github.com/scikit-learn/scikit-learn/issues/21755 */display: inline-block !important;position: relative;}#sk-container-id-5 div.sk-text-repr-fallback {display: none;}</style><div id=\"sk-container-id-5\" class=\"sk-top-container\"><div class=\"sk-text-repr-fallback\"><pre>StackingClassifier(cv=10,\n",
       "                   estimators=[(&#x27;rf&#x27;,\n",
       "                                Pipeline(steps=[(&#x27;simpleimputer&#x27;,\n",
       "                                                 SimpleImputer(strategy=&#x27;median&#x27;)),\n",
       "                                                (&#x27;standardscaler&#x27;,\n",
       "                                                 StandardScaler()),\n",
       "                                                (&#x27;randomforestclassifier&#x27;,\n",
       "                                                 RandomForestClassifier(random_state=234))])),\n",
       "                               (&#x27;lgbm&#x27;,\n",
       "                                Pipeline(steps=[(&#x27;simpleimputer&#x27;,\n",
       "                                                 SimpleImputer(strategy=&#x27;median&#x27;)),\n",
       "                                                (&#x27;standardscaler&#x27;,\n",
       "                                                 StandardScaler()),\n",
       "                                                (&#x27;lgbmclassifier&#x27;,\n",
       "                                                 LGBM...\n",
       "                                                (&#x27;standardscaler&#x27;,\n",
       "                                                 StandardScaler()),\n",
       "                                                (&#x27;baggingclassifier&#x27;,\n",
       "                                                 BaggingClassifier(base_estimator=ExtraTreeClassifier(random_state=234),\n",
       "                                                                   random_state=234))]))],\n",
       "                   final_estimator=Pipeline(steps=[(&#x27;simpleimputer&#x27;,\n",
       "                                                    SimpleImputer(strategy=&#x27;median&#x27;)),\n",
       "                                                   (&#x27;standardscaler&#x27;,\n",
       "                                                    StandardScaler()),\n",
       "                                                   (&#x27;randomforestclassifier&#x27;,\n",
       "                                                    RandomForestClassifier(random_state=234))]),\n",
       "                   n_jobs=-1)</pre><b>In a Jupyter environment, please rerun this cell to show the HTML representation or trust the notebook. <br />On GitHub, the HTML representation is unable to render, please try loading this page with nbviewer.org.</b></div><div class=\"sk-container\" hidden><div class=\"sk-item sk-dashed-wrapped\"><div class=\"sk-label-container\"><div class=\"sk-label sk-toggleable\"><input class=\"sk-toggleable__control sk-hidden--visually\" id=\"sk-estimator-id-19\" type=\"checkbox\" ><label for=\"sk-estimator-id-19\" class=\"sk-toggleable__label sk-toggleable__label-arrow\">StackingClassifier</label><div class=\"sk-toggleable__content\"><pre>StackingClassifier(cv=10,\n",
       "                   estimators=[(&#x27;rf&#x27;,\n",
       "                                Pipeline(steps=[(&#x27;simpleimputer&#x27;,\n",
       "                                                 SimpleImputer(strategy=&#x27;median&#x27;)),\n",
       "                                                (&#x27;standardscaler&#x27;,\n",
       "                                                 StandardScaler()),\n",
       "                                                (&#x27;randomforestclassifier&#x27;,\n",
       "                                                 RandomForestClassifier(random_state=234))])),\n",
       "                               (&#x27;lgbm&#x27;,\n",
       "                                Pipeline(steps=[(&#x27;simpleimputer&#x27;,\n",
       "                                                 SimpleImputer(strategy=&#x27;median&#x27;)),\n",
       "                                                (&#x27;standardscaler&#x27;,\n",
       "                                                 StandardScaler()),\n",
       "                                                (&#x27;lgbmclassifier&#x27;,\n",
       "                                                 LGBM...\n",
       "                                                (&#x27;standardscaler&#x27;,\n",
       "                                                 StandardScaler()),\n",
       "                                                (&#x27;baggingclassifier&#x27;,\n",
       "                                                 BaggingClassifier(base_estimator=ExtraTreeClassifier(random_state=234),\n",
       "                                                                   random_state=234))]))],\n",
       "                   final_estimator=Pipeline(steps=[(&#x27;simpleimputer&#x27;,\n",
       "                                                    SimpleImputer(strategy=&#x27;median&#x27;)),\n",
       "                                                   (&#x27;standardscaler&#x27;,\n",
       "                                                    StandardScaler()),\n",
       "                                                   (&#x27;randomforestclassifier&#x27;,\n",
       "                                                    RandomForestClassifier(random_state=234))]),\n",
       "                   n_jobs=-1)</pre></div></div></div><div class=\"sk-serial\"><div class=\"sk-item\"><div class=\"sk-parallel\"><div class=\"sk-parallel-item\"><div class=\"sk-item\"><div class=\"sk-label-container\"><div class=\"sk-label sk-toggleable\"><label>rf</label></div></div><div class=\"sk-serial\"><div class=\"sk-item\"><div class=\"sk-serial\"><div class=\"sk-item\"><div class=\"sk-estimator sk-toggleable\"><input class=\"sk-toggleable__control sk-hidden--visually\" id=\"sk-estimator-id-20\" type=\"checkbox\" ><label for=\"sk-estimator-id-20\" class=\"sk-toggleable__label sk-toggleable__label-arrow\">SimpleImputer</label><div class=\"sk-toggleable__content\"><pre>SimpleImputer(strategy=&#x27;median&#x27;)</pre></div></div></div><div class=\"sk-item\"><div class=\"sk-estimator sk-toggleable\"><input class=\"sk-toggleable__control sk-hidden--visually\" id=\"sk-estimator-id-21\" type=\"checkbox\" ><label for=\"sk-estimator-id-21\" class=\"sk-toggleable__label sk-toggleable__label-arrow\">StandardScaler</label><div class=\"sk-toggleable__content\"><pre>StandardScaler()</pre></div></div></div><div class=\"sk-item\"><div class=\"sk-estimator sk-toggleable\"><input class=\"sk-toggleable__control sk-hidden--visually\" id=\"sk-estimator-id-22\" type=\"checkbox\" ><label for=\"sk-estimator-id-22\" class=\"sk-toggleable__label sk-toggleable__label-arrow\">RandomForestClassifier</label><div class=\"sk-toggleable__content\"><pre>RandomForestClassifier(random_state=234)</pre></div></div></div></div></div></div></div></div><div class=\"sk-parallel-item\"><div class=\"sk-item\"><div class=\"sk-label-container\"><div class=\"sk-label sk-toggleable\"><label>lgbm</label></div></div><div class=\"sk-serial\"><div class=\"sk-item\"><div class=\"sk-serial\"><div class=\"sk-item\"><div class=\"sk-estimator sk-toggleable\"><input class=\"sk-toggleable__control sk-hidden--visually\" id=\"sk-estimator-id-23\" type=\"checkbox\" ><label for=\"sk-estimator-id-23\" class=\"sk-toggleable__label sk-toggleable__label-arrow\">SimpleImputer</label><div class=\"sk-toggleable__content\"><pre>SimpleImputer(strategy=&#x27;median&#x27;)</pre></div></div></div><div class=\"sk-item\"><div class=\"sk-estimator sk-toggleable\"><input class=\"sk-toggleable__control sk-hidden--visually\" id=\"sk-estimator-id-24\" type=\"checkbox\" ><label for=\"sk-estimator-id-24\" class=\"sk-toggleable__label sk-toggleable__label-arrow\">StandardScaler</label><div class=\"sk-toggleable__content\"><pre>StandardScaler()</pre></div></div></div><div class=\"sk-item\"><div class=\"sk-estimator sk-toggleable\"><input class=\"sk-toggleable__control sk-hidden--visually\" id=\"sk-estimator-id-25\" type=\"checkbox\" ><label for=\"sk-estimator-id-25\" class=\"sk-toggleable__label sk-toggleable__label-arrow\">LGBMClassifier</label><div class=\"sk-toggleable__content\"><pre>LGBMClassifier(random_state=234)</pre></div></div></div></div></div></div></div></div><div class=\"sk-parallel-item\"><div class=\"sk-item\"><div class=\"sk-label-container\"><div class=\"sk-label sk-toggleable\"><label>xgb</label></div></div><div class=\"sk-serial\"><div class=\"sk-item\"><div class=\"sk-serial\"><div class=\"sk-item\"><div class=\"sk-estimator sk-toggleable\"><input class=\"sk-toggleable__control sk-hidden--visually\" id=\"sk-estimator-id-26\" type=\"checkbox\" ><label for=\"sk-estimator-id-26\" class=\"sk-toggleable__label sk-toggleable__label-arrow\">SimpleImputer</label><div class=\"sk-toggleable__content\"><pre>SimpleImputer(strategy=&#x27;median&#x27;)</pre></div></div></div><div class=\"sk-item\"><div class=\"sk-estimator sk-toggleable\"><input class=\"sk-toggleable__control sk-hidden--visually\" id=\"sk-estimator-id-27\" type=\"checkbox\" ><label for=\"sk-estimator-id-27\" class=\"sk-toggleable__label sk-toggleable__label-arrow\">StandardScaler</label><div class=\"sk-toggleable__content\"><pre>StandardScaler()</pre></div></div></div><div class=\"sk-item\"><div class=\"sk-estimator sk-toggleable\"><input class=\"sk-toggleable__control sk-hidden--visually\" id=\"sk-estimator-id-28\" type=\"checkbox\" ><label for=\"sk-estimator-id-28\" class=\"sk-toggleable__label sk-toggleable__label-arrow\">XGBClassifier</label><div class=\"sk-toggleable__content\"><pre>XGBClassifier(base_score=0.5, booster=&#x27;gbtree&#x27;, callbacks=None,\n",
       "              colsample_bylevel=1, colsample_bynode=1, colsample_bytree=1,\n",
       "              early_stopping_rounds=None, enable_categorical=False,\n",
       "              eval_metric=None, gamma=0, gpu_id=-1, grow_policy=&#x27;depthwise&#x27;,\n",
       "              importance_type=None, interaction_constraints=&#x27;&#x27;,\n",
       "              learning_rate=0.300000012, max_bin=256, max_cat_to_onehot=4,\n",
       "              max_delta_step=0, max_depth=6, max_leaves=0, min_child_weight=1,\n",
       "              missing=nan, monotone_constraints=&#x27;()&#x27;, n_estimators=100,\n",
       "              n_jobs=0, num_parallel_tree=1, predictor=&#x27;auto&#x27;, random_state=234,\n",
       "              reg_alpha=0, reg_lambda=1, ...)</pre></div></div></div></div></div></div></div></div><div class=\"sk-parallel-item\"><div class=\"sk-item\"><div class=\"sk-label-container\"><div class=\"sk-label sk-toggleable\"><label>extra_tree</label></div></div><div class=\"sk-serial\"><div class=\"sk-item\"><div class=\"sk-serial\"><div class=\"sk-item\"><div class=\"sk-estimator sk-toggleable\"><input class=\"sk-toggleable__control sk-hidden--visually\" id=\"sk-estimator-id-29\" type=\"checkbox\" ><label for=\"sk-estimator-id-29\" class=\"sk-toggleable__label sk-toggleable__label-arrow\">SimpleImputer</label><div class=\"sk-toggleable__content\"><pre>SimpleImputer(strategy=&#x27;median&#x27;)</pre></div></div></div><div class=\"sk-item\"><div class=\"sk-estimator sk-toggleable\"><input class=\"sk-toggleable__control sk-hidden--visually\" id=\"sk-estimator-id-30\" type=\"checkbox\" ><label for=\"sk-estimator-id-30\" class=\"sk-toggleable__label sk-toggleable__label-arrow\">StandardScaler</label><div class=\"sk-toggleable__content\"><pre>StandardScaler()</pre></div></div></div><div class=\"sk-item sk-dashed-wrapped\"><div class=\"sk-label-container\"><div class=\"sk-label sk-toggleable\"><input class=\"sk-toggleable__control sk-hidden--visually\" id=\"sk-estimator-id-31\" type=\"checkbox\" ><label for=\"sk-estimator-id-31\" class=\"sk-toggleable__label sk-toggleable__label-arrow\">baggingclassifier: BaggingClassifier</label><div class=\"sk-toggleable__content\"><pre>BaggingClassifier(base_estimator=ExtraTreeClassifier(random_state=234),\n",
       "                  random_state=234)</pre></div></div></div><div class=\"sk-parallel\"><div class=\"sk-parallel-item\"><div class=\"sk-item\"><div class=\"sk-label-container\"><div class=\"sk-label sk-toggleable\"><input class=\"sk-toggleable__control sk-hidden--visually\" id=\"sk-estimator-id-32\" type=\"checkbox\" ><label for=\"sk-estimator-id-32\" class=\"sk-toggleable__label sk-toggleable__label-arrow\">base_estimator: ExtraTreeClassifier</label><div class=\"sk-toggleable__content\"><pre>ExtraTreeClassifier(random_state=234)</pre></div></div></div><div class=\"sk-serial\"><div class=\"sk-item\"><div class=\"sk-estimator sk-toggleable\"><input class=\"sk-toggleable__control sk-hidden--visually\" id=\"sk-estimator-id-33\" type=\"checkbox\" ><label for=\"sk-estimator-id-33\" class=\"sk-toggleable__label sk-toggleable__label-arrow\">ExtraTreeClassifier</label><div class=\"sk-toggleable__content\"><pre>ExtraTreeClassifier(random_state=234)</pre></div></div></div></div></div></div></div></div></div></div></div></div></div></div></div><div class=\"sk-item\"><div class=\"sk-parallel\"><div class=\"sk-parallel-item\"><div class=\"sk-item\"><div class=\"sk-label-container\"><div class=\"sk-label sk-toggleable\"><label>final_estimator</label></div></div><div class=\"sk-serial\"><div class=\"sk-item\"><div class=\"sk-serial\"><div class=\"sk-item\"><div class=\"sk-estimator sk-toggleable\"><input class=\"sk-toggleable__control sk-hidden--visually\" id=\"sk-estimator-id-34\" type=\"checkbox\" ><label for=\"sk-estimator-id-34\" class=\"sk-toggleable__label sk-toggleable__label-arrow\">SimpleImputer</label><div class=\"sk-toggleable__content\"><pre>SimpleImputer(strategy=&#x27;median&#x27;)</pre></div></div></div><div class=\"sk-item\"><div class=\"sk-estimator sk-toggleable\"><input class=\"sk-toggleable__control sk-hidden--visually\" id=\"sk-estimator-id-35\" type=\"checkbox\" ><label for=\"sk-estimator-id-35\" class=\"sk-toggleable__label sk-toggleable__label-arrow\">StandardScaler</label><div class=\"sk-toggleable__content\"><pre>StandardScaler()</pre></div></div></div><div class=\"sk-item\"><div class=\"sk-estimator sk-toggleable\"><input class=\"sk-toggleable__control sk-hidden--visually\" id=\"sk-estimator-id-36\" type=\"checkbox\" ><label for=\"sk-estimator-id-36\" class=\"sk-toggleable__label sk-toggleable__label-arrow\">RandomForestClassifier</label><div class=\"sk-toggleable__content\"><pre>RandomForestClassifier(random_state=234)</pre></div></div></div></div></div></div></div></div></div></div></div></div></div></div>"
      ],
      "text/plain": [
       "StackingClassifier(cv=10,\n",
       "                   estimators=[('rf',\n",
       "                                Pipeline(steps=[('simpleimputer',\n",
       "                                                 SimpleImputer(strategy='median')),\n",
       "                                                ('standardscaler',\n",
       "                                                 StandardScaler()),\n",
       "                                                ('randomforestclassifier',\n",
       "                                                 RandomForestClassifier(random_state=234))])),\n",
       "                               ('lgbm',\n",
       "                                Pipeline(steps=[('simpleimputer',\n",
       "                                                 SimpleImputer(strategy='median')),\n",
       "                                                ('standardscaler',\n",
       "                                                 StandardScaler()),\n",
       "                                                ('lgbmclassifier',\n",
       "                                                 LGBM...\n",
       "                                                ('standardscaler',\n",
       "                                                 StandardScaler()),\n",
       "                                                ('baggingclassifier',\n",
       "                                                 BaggingClassifier(base_estimator=ExtraTreeClassifier(random_state=234),\n",
       "                                                                   random_state=234))]))],\n",
       "                   final_estimator=Pipeline(steps=[('simpleimputer',\n",
       "                                                    SimpleImputer(strategy='median')),\n",
       "                                                   ('standardscaler',\n",
       "                                                    StandardScaler()),\n",
       "                                                   ('randomforestclassifier',\n",
       "                                                    RandomForestClassifier(random_state=234))]),\n",
       "                   n_jobs=-1)"
      ]
     },
     "execution_count": 46,
     "metadata": {},
     "output_type": "execute_result"
    }
   ],
   "source": [
    "estimators = [(\"rf\", pipe_rf), \n",
    "              (\"lgbm\", pipe_lgbm), \n",
    "              (\"xgb\", pipe_xgb), \n",
    "              (\"extra_tree\", pipe_extra_tree)\n",
    "              ]\n",
    "stack = StackingClassifier(estimators=estimators, final_estimator=pipe_rf, cv=10, verbose=0, n_jobs=-1)\n",
    "stack.fit(X_train, y_train)"
   ]
  },
  {
   "cell_type": "code",
   "execution_count": 47,
   "metadata": {},
   "outputs": [
    {
     "name": "stdout",
     "output_type": "stream",
     "text": [
      "              precision    recall  f1-score   support\n",
      "\n",
      "           0       0.68      0.72      0.70       400\n",
      "           1       0.52      0.48      0.50       256\n",
      "\n",
      "    accuracy                           0.62       656\n",
      "   macro avg       0.60      0.60      0.60       656\n",
      "weighted avg       0.62      0.62      0.62       656\n",
      "\n"
     ]
    }
   ],
   "source": [
    "print(classification_report(y_test, stack.predict(X_test)))"
   ]
  },
  {
   "cell_type": "code",
   "execution_count": 48,
   "metadata": {},
   "outputs": [
    {
     "data": {
      "text/plain": [
       "<sklearn.metrics._plot.confusion_matrix.ConfusionMatrixDisplay at 0x2a5e0f528b0>"
      ]
     },
     "execution_count": 48,
     "metadata": {},
     "output_type": "execute_result"
    },
    {
     "data": {
      "image/png": "[encoded data removed]",
      "text/plain": [
       "<Figure size 432x288 with 2 Axes>"
      ]
     },
     "metadata": {
      "needs_background": "light"
     },
     "output_type": "display_data"
    }
   ],
   "source": [
    "ConfusionMatrixDisplay.from_estimator(stack, X_test, y_test, normalize='all')"
   ]
  },
  {
   "cell_type": "code",
   "execution_count": null,
   "metadata": {},
   "outputs": [],
   "source": []
  }
 ],
 "metadata": {
  "kernelspec": {
   "display_name": "Python 3 (ipykernel)",
   "language": "python",
   "name": "python3"
  },
  "language_info": {
   "codemirror_mode": {
    "name": "ipython",
    "version": 3
   },
   "file_extension": ".py",
   "mimetype": "text/x-python",
   "name": "python",
   "nbconvert_exporter": "python",
   "pygments_lexer": "ipython3",
   "version": "3.9.12"
  },
  "vscode": {
   "interpreter": {
    "hash": "25a19fbe0a9132dfb9279d48d161753c6352f8f9478c2e74383d340069b907c3"
   }
  }
 },
 "nbformat": 4,
 "nbformat_minor": 2
}
